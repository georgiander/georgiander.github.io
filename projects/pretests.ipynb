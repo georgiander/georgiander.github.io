{
 "cells": [
  {
   "cell_type": "code",
   "execution_count": null,
   "metadata": {},
   "outputs": [],
   "source": []
  },
  {
   "cell_type": "markdown",
   "metadata": {},
   "source": [
    "\n",
    "\\begin{equation}\n",
    "\\begin{aligned}\n",
    "    H_j & =-\\sum\\limits_{<i, j>}J_{i,j}\\sigma_i\\sigma_j-h\\sum\\limits_{j}\\sigma_j\\\\\n",
    "    H_j & =-J\\sum\\limits_{i}{\\sigma_i\\sigma_j}-h\\sigma_j,\n",
    "\\end{aligned}  \n",
    "\\end{equation}\n",
    "\n",
    "\n",
    "![hsteady](refimgs/hplotnotit.png)\n",
    "\n",
    "<style>\n",
    "    .imgContainer {\n",
    "        display: inline-block;\n",
    "        width: 200px; /* Adjust this width as needed */\n",
    "        margin-right: 20px; /* Add some space between images */\n",
    "        text-align: center; /* Center the images and text inside the container */\n",
    "    }\n",
    "</style>\n",
    "\n",
    "<div class=\"image123\">\n",
    "    <div class=\"imgContainer\">\n",
    "        <img src=\"refimgs/3D_Gaussian.png\" height=\"200\" width=\"200\"/>\n",
    "        <p>3D Rendering</p>\n",
    "    </div>\n",
    "    <div class=\"imgContainer\">\n",
    "        <img class=\"middle-img\" src=\"refimgs/Gaussian_Mask_(Contour).png\" height=\"200\" width=\"200\"/>\n",
    "        <p>2D Contour Mask</p>\n",
    "    </div>\n",
    "    <div class=\"imgContainer\">\n",
    "        <img src=\"refimgs/Splice.png\" height=\"200\" width=\"200\"/>\n",
    "        <p>1D Splice to Show Sigma</p>\n",
    "    </div>\n",
    "</div>"
   ]
  }
 ],
 "metadata": {
  "language_info": {
   "name": "python"
  }
 },
 "nbformat": 4,
 "nbformat_minor": 2
}
